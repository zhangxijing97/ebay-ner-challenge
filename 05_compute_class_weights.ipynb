{
 "cells": [
  {
   "cell_type": "code",
   "execution_count": 2,
   "id": "1c62c2cb-f760-402c-8a10-5052941f8407",
   "metadata": {},
   "outputs": [],
   "source": [
    "# --- Imports & Paths ---\n",
    "import pandas as pd\n",
    "import numpy as np\n",
    "import torch\n",
    "from pathlib import Path\n",
    "\n",
    "IN_PATH  = Path(\"processed_data/aligned_train_subwords.tsv\")  # train-only to avoid leakage\n",
    "OUT_PATH = Path(\"processed_data/class_weights.pt\")            # torch tensor for CE loss"
   ]
  },
  {
   "cell_type": "code",
   "execution_count": 3,
   "id": "84e3beac-15fb-40bf-83d8-35ff5b020526",
   "metadata": {},
   "outputs": [
    {
     "name": "stdout",
     "output_type": "stream",
     "text": [
      "Rows (subwords): 124489 | supervised (labels>=0): 51184\n"
     ]
    }
   ],
   "source": [
    "# --- Load aligned subwords (train) ---\n",
    "df = pd.read_csv(IN_PATH, sep=\"\\t\")\n",
    "required = {\"Label_ID\"}\n",
    "assert required.issubset(df.columns), f\"Missing columns: {required - set(df.columns)}\"\n",
    "\n",
    "# keep valid labels (>=0); ignore -100 (special/suffix subwords & specials)\n",
    "labels = df[\"Label_ID\"]\n",
    "valid  = labels[labels >= 0]     # only supervised positions\n",
    "n_tokens = len(labels)\n",
    "n_supervised = len(valid)\n",
    "print(f\"Rows (subwords): {n_tokens} | supervised (labels>=0): {n_supervised}\")"
   ]
  },
  {
   "cell_type": "code",
   "execution_count": 4,
   "id": "7c2f8873-c438-4184-9a92-35f96e0815fe",
   "metadata": {},
   "outputs": [
    {
     "name": "stdout",
     "output_type": "stream",
     "text": [
      "Label counts:\n",
      " Label_ID\n",
      "0     16964\n",
      "1        29\n",
      "2       249\n",
      "3        68\n",
      "4         3\n",
      "5      1086\n",
      "6       313\n",
      "7      2329\n",
      "8         5\n",
      "9        24\n",
      "10     3539\n",
      "11     1234\n",
      "12        1\n",
      "13     4912\n",
      "14     4929\n",
      "15      225\n",
      "16     5528\n",
      "17        3\n",
      "18       34\n",
      "19      314\n",
      "20       24\n",
      "21      110\n",
      "22       16\n",
      "23      186\n",
      "24     3002\n",
      "25       97\n",
      "26        5\n",
      "27       22\n",
      "28        1\n",
      "29        2\n",
      "30        1\n",
      "31        4\n",
      "32        1\n",
      "33      132\n",
      "34        1\n",
      "35       32\n",
      "36       75\n",
      "37      823\n",
      "38     1756\n",
      "39        2\n",
      "40     2916\n",
      "41       51\n",
      "42      136\n",
      "\n",
      "Class weights (id -> weight):\n",
      "0: 0.0283\n",
      "1: 0.6840\n",
      "2: 0.2334\n",
      "3: 0.4467\n",
      "4: 2.1268\n",
      "5: 0.1118\n",
      "6: 0.2082\n",
      "7: 0.0763\n",
      "8: 1.6474\n",
      "9: 0.7519\n",
      "10: 0.0619\n",
      "11: 0.1049\n",
      "12: 3.6837\n",
      "13: 0.0526\n",
      "14: 0.0525\n",
      "15: 0.2456\n",
      "16: 0.0495\n",
      "17: 2.1268\n",
      "18: 0.6318\n",
      "19: 0.2079\n",
      "20: 0.7519\n",
      "21: 0.3512\n",
      "22: 0.9209\n",
      "23: 0.2701\n",
      "24: 0.0672\n",
      "25: 0.3740\n",
      "26: 1.6474\n",
      "27: 0.7854\n",
      "28: 3.6837\n",
      "29: 2.6048\n",
      "30: 3.6837\n",
      "31: 1.8419\n",
      "32: 3.6837\n",
      "33: 0.3206\n",
      "34: 3.6837\n",
      "35: 0.6512\n",
      "36: 0.4254\n",
      "37: 0.1284\n",
      "38: 0.0879\n",
      "39: 2.6048\n",
      "40: 0.0682\n",
      "41: 0.5158\n",
      "42: 0.3159\n"
     ]
    }
   ],
   "source": [
    "# --- Compute class weights ---\n",
    "# freq[c] = count of label c among supervised positions\n",
    "counts = valid.value_counts().sort_index()\n",
    "num_labels = int(counts.index.max()) + 1  # label ids assumed 0..K-1\n",
    "freq = np.zeros(num_labels, dtype=np.float64)\n",
    "freq[counts.index.values] = counts.values\n",
    "\n",
    "# smoothing to avoid div-by-zero if any class missing (rare but safe)\n",
    "eps = 1e-6\n",
    "freq = np.maximum(freq, eps)\n",
    "\n",
    "# Option A (common): inverse-frequency^alpha  (alpha in [0.5, 1.0])\n",
    "alpha = 0.5\n",
    "weights = (1.0 / (freq ** alpha))\n",
    "\n",
    "# normalize for stability (optional but nice): scale so mean weight = 1\n",
    "weights = weights * (len(weights) / weights.sum())\n",
    "\n",
    "# build final torch tensor; add slot for ignore_index=-100 with weight 0 (not used by CE anyway)\n",
    "class_weights = torch.tensor(weights, dtype=torch.float32)\n",
    "print(\"Label counts:\\n\", counts.to_string())\n",
    "print(\"\\nClass weights (id -> weight):\")\n",
    "for i, w in enumerate(class_weights.tolist()):\n",
    "    print(f\"{i}: {w:.4f}\")"
   ]
  },
  {
   "cell_type": "code",
   "execution_count": 5,
   "id": "49630ed7-7381-44c5-916d-61c3901bf6a3",
   "metadata": {},
   "outputs": [
    {
     "name": "stdout",
     "output_type": "stream",
     "text": [
      "\n",
      "Saved class weights -> processed_data/class_weights.pt\n"
     ]
    }
   ],
   "source": [
    "# --- Save ---\n",
    "OUT_PATH.parent.mkdir(parents=True, exist_ok=True)\n",
    "torch.save(class_weights, OUT_PATH)\n",
    "print(f\"\\nSaved class weights -> {OUT_PATH}\")"
   ]
  }
 ],
 "metadata": {
  "kernelspec": {
   "display_name": "Python [conda env:anaconda3]",
   "language": "python",
   "name": "conda-env-anaconda3-py"
  },
  "language_info": {
   "codemirror_mode": {
    "name": "ipython",
    "version": 3
   },
   "file_extension": ".py",
   "mimetype": "text/x-python",
   "name": "python",
   "nbconvert_exporter": "python",
   "pygments_lexer": "ipython3",
   "version": "3.11.4"
  }
 },
 "nbformat": 4,
 "nbformat_minor": 5
}
