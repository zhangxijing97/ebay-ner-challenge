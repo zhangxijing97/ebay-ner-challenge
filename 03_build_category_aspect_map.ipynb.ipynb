{
 "cells": [
  {
   "cell_type": "code",
   "execution_count": 10,
   "id": "9a6fd003-7d80-440b-9765-ee5acbcc607e",
   "metadata": {},
   "outputs": [
    {
     "name": "stdout",
     "output_type": "stream",
     "text": [
      "Saved: processed_data/category2aspects.json\n"
     ]
    }
   ],
   "source": [
    "# --- Imports ---\n",
    "import pandas as pd, json\n",
    "from pathlib import Path\n",
    "\n",
    "# --- Load only train split (avoid leakage) ---\n",
    "df = pd.read_csv(\"processed_data/Tagged_Titles_Train_train_with_BIO.tsv\", sep=\"\\t\")\n",
    "\n",
    "# --- Collect aspects per Category (ignore O/empty) ---\n",
    "df_aspects = df[df[\"Tag\"].notna() & (df[\"Tag\"] != \"\") & (df[\"Tag\"] != \"O\")]\n",
    "cat2aspects = df_aspects.groupby(\"Category\")[\"Tag\"].unique().apply(list).to_dict()\n",
    "\n",
    "# --- Save as JSON ---\n",
    "out_path = Path(\"processed_data/category2aspects.json\")\n",
    "with open(out_path, \"w\", encoding=\"utf-8\") as f:\n",
    "    json.dump(cat2aspects, f, ensure_ascii=False, indent=2)\n",
    "\n",
    "print(\"Saved:\", out_path)"
   ]
  },
  {
   "cell_type": "code",
   "execution_count": null,
   "id": "544465dd-145f-4255-a00d-b596011cb227",
   "metadata": {},
   "outputs": [],
   "source": []
  }
 ],
 "metadata": {
  "kernelspec": {
   "display_name": "Python [conda env:anaconda3]",
   "language": "python",
   "name": "conda-env-anaconda3-py"
  },
  "language_info": {
   "codemirror_mode": {
    "name": "ipython",
    "version": 3
   },
   "file_extension": ".py",
   "mimetype": "text/x-python",
   "name": "python",
   "nbconvert_exporter": "python",
   "pygments_lexer": "ipython3",
   "version": "3.11.4"
  }
 },
 "nbformat": 4,
 "nbformat_minor": 5
}
