{
 "cells": [
  {
   "cell_type": "code",
   "execution_count": null,
   "id": "86667009-0294-41c1-9bf0-efba4dd9e495",
   "metadata": {},
   "outputs": [],
   "source": []
  }
 ],
 "metadata": {
  "kernelspec": {
   "display_name": "",
   "name": ""
  },
  "language_info": {
   "name": ""
  }
 },
 "nbformat": 4,
 "nbformat_minor": 5
}
