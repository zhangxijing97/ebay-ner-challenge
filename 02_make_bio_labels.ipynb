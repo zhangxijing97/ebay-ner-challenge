{
 "cells": [
  {
   "cell_type": "code",
   "execution_count": 2,
   "id": "8d2fd377-f2dd-4e2a-9235-c778e5c9e70b",
   "metadata": {},
   "outputs": [],
   "source": [
    "# --- Imports ---\n",
    "import pandas as pd\n",
    "from pathlib import Path"
   ]
  },
  {
   "cell_type": "code",
   "execution_count": 3,
   "id": "bdb5802b-001b-4202-bc12-f83815ef0f6f",
   "metadata": {},
   "outputs": [
    {
     "name": "stdout",
     "output_type": "stream",
     "text": [
      "Loaded: processed_data/Tagged_Titles_Train_train.tsv | rows: 51184\n"
     ]
    },
    {
     "data": {
      "text/html": [
       "<div>\n",
       "<style scoped>\n",
       "    .dataframe tbody tr th:only-of-type {\n",
       "        vertical-align: middle;\n",
       "    }\n",
       "\n",
       "    .dataframe tbody tr th {\n",
       "        vertical-align: top;\n",
       "    }\n",
       "\n",
       "    .dataframe thead th {\n",
       "        text-align: right;\n",
       "    }\n",
       "</style>\n",
       "<table border=\"1\" class=\"dataframe\">\n",
       "  <thead>\n",
       "    <tr style=\"text-align: right;\">\n",
       "      <th></th>\n",
       "      <th>Record Number</th>\n",
       "      <th>Category</th>\n",
       "      <th>Title</th>\n",
       "      <th>Token</th>\n",
       "      <th>Tag</th>\n",
       "    </tr>\n",
       "  </thead>\n",
       "  <tbody>\n",
       "    <tr>\n",
       "      <th>0</th>\n",
       "      <td>1</td>\n",
       "      <td>2</td>\n",
       "      <td>MINI 1.6 W10B16A W11B16A R50 Steuerkettensatz ...</td>\n",
       "      <td>MINI</td>\n",
       "      <td>Kompatible_Fahrzeug_Marke</td>\n",
       "    </tr>\n",
       "    <tr>\n",
       "      <th>1</th>\n",
       "      <td>1</td>\n",
       "      <td>2</td>\n",
       "      <td>MINI 1.6 W10B16A W11B16A R50 Steuerkettensatz ...</td>\n",
       "      <td>1.6</td>\n",
       "      <td>Kompatibles_Fahrzeug_Modell</td>\n",
       "    </tr>\n",
       "    <tr>\n",
       "      <th>2</th>\n",
       "      <td>1</td>\n",
       "      <td>2</td>\n",
       "      <td>MINI 1.6 W10B16A W11B16A R50 Steuerkettensatz ...</td>\n",
       "      <td>W10B16A</td>\n",
       "      <td>Herstellernummer</td>\n",
       "    </tr>\n",
       "    <tr>\n",
       "      <th>3</th>\n",
       "      <td>1</td>\n",
       "      <td>2</td>\n",
       "      <td>MINI 1.6 W10B16A W11B16A R50 Steuerkettensatz ...</td>\n",
       "      <td>W11B16A</td>\n",
       "      <td>NaN</td>\n",
       "    </tr>\n",
       "    <tr>\n",
       "      <th>4</th>\n",
       "      <td>1</td>\n",
       "      <td>2</td>\n",
       "      <td>MINI 1.6 W10B16A W11B16A R50 Steuerkettensatz ...</td>\n",
       "      <td>R50</td>\n",
       "      <td>NaN</td>\n",
       "    </tr>\n",
       "  </tbody>\n",
       "</table>\n",
       "</div>"
      ],
      "text/plain": [
       "   Record Number  Category                                              Title  \\\n",
       "0              1         2  MINI 1.6 W10B16A W11B16A R50 Steuerkettensatz ...   \n",
       "1              1         2  MINI 1.6 W10B16A W11B16A R50 Steuerkettensatz ...   \n",
       "2              1         2  MINI 1.6 W10B16A W11B16A R50 Steuerkettensatz ...   \n",
       "3              1         2  MINI 1.6 W10B16A W11B16A R50 Steuerkettensatz ...   \n",
       "4              1         2  MINI 1.6 W10B16A W11B16A R50 Steuerkettensatz ...   \n",
       "\n",
       "     Token                          Tag  \n",
       "0     MINI    Kompatible_Fahrzeug_Marke  \n",
       "1      1.6  Kompatibles_Fahrzeug_Modell  \n",
       "2  W10B16A             Herstellernummer  \n",
       "3  W11B16A                          NaN  \n",
       "4      R50                          NaN  "
      ]
     },
     "execution_count": 3,
     "metadata": {},
     "output_type": "execute_result"
    }
   ],
   "source": [
    "# --- Load data (TSV) ---\n",
    "src_path = Path(\"processed_data/Tagged_Titles_Train_train.tsv\")  # adjust if needed\n",
    "df = pd.read_csv(src_path, sep=\"\\t\")\n",
    "print(\"Loaded:\", src_path, \"| rows:\", len(df))\n",
    "df.head()"
   ]
  },
  {
   "cell_type": "code",
   "execution_count": 4,
   "id": "f7e01d91-84a4-4e25-81f6-37e423182552",
   "metadata": {},
   "outputs": [
    {
     "name": "stderr",
     "output_type": "stream",
     "text": [
      "/var/folders/4x/93t8x08s0s15_93t7b53wtzr0000gn/T/ipykernel_65204/1196605705.py:20: DeprecationWarning: DataFrameGroupBy.apply operated on the grouping columns. This behavior is deprecated, and in a future version of pandas the grouping columns will be excluded from the operation. Either pass `include_groups=False` to exclude the groupings or explicitly select the grouping columns after groupby to silence this warning.\n",
      "  df_bio = df.groupby(\"Record Number\", sort=False, group_keys=False).apply(to_bio)\n"
     ]
    },
    {
     "data": {
      "text/html": [
       "<div>\n",
       "<style scoped>\n",
       "    .dataframe tbody tr th:only-of-type {\n",
       "        vertical-align: middle;\n",
       "    }\n",
       "\n",
       "    .dataframe tbody tr th {\n",
       "        vertical-align: top;\n",
       "    }\n",
       "\n",
       "    .dataframe thead th {\n",
       "        text-align: right;\n",
       "    }\n",
       "</style>\n",
       "<table border=\"1\" class=\"dataframe\">\n",
       "  <thead>\n",
       "    <tr style=\"text-align: right;\">\n",
       "      <th></th>\n",
       "      <th>Record Number</th>\n",
       "      <th>Category</th>\n",
       "      <th>Title</th>\n",
       "      <th>Token</th>\n",
       "      <th>Tag</th>\n",
       "      <th>BIO_Tag</th>\n",
       "    </tr>\n",
       "  </thead>\n",
       "  <tbody>\n",
       "    <tr>\n",
       "      <th>0</th>\n",
       "      <td>1</td>\n",
       "      <td>2</td>\n",
       "      <td>MINI 1.6 W10B16A W11B16A R50 Steuerkettensatz ...</td>\n",
       "      <td>MINI</td>\n",
       "      <td>Kompatible_Fahrzeug_Marke</td>\n",
       "      <td>B-Kompatible_Fahrzeug_Marke</td>\n",
       "    </tr>\n",
       "    <tr>\n",
       "      <th>1</th>\n",
       "      <td>1</td>\n",
       "      <td>2</td>\n",
       "      <td>MINI 1.6 W10B16A W11B16A R50 Steuerkettensatz ...</td>\n",
       "      <td>1.6</td>\n",
       "      <td>Kompatibles_Fahrzeug_Modell</td>\n",
       "      <td>B-Kompatibles_Fahrzeug_Modell</td>\n",
       "    </tr>\n",
       "    <tr>\n",
       "      <th>2</th>\n",
       "      <td>1</td>\n",
       "      <td>2</td>\n",
       "      <td>MINI 1.6 W10B16A W11B16A R50 Steuerkettensatz ...</td>\n",
       "      <td>W10B16A</td>\n",
       "      <td>Herstellernummer</td>\n",
       "      <td>B-Herstellernummer</td>\n",
       "    </tr>\n",
       "    <tr>\n",
       "      <th>3</th>\n",
       "      <td>1</td>\n",
       "      <td>2</td>\n",
       "      <td>MINI 1.6 W10B16A W11B16A R50 Steuerkettensatz ...</td>\n",
       "      <td>W11B16A</td>\n",
       "      <td>NaN</td>\n",
       "      <td>O</td>\n",
       "    </tr>\n",
       "    <tr>\n",
       "      <th>4</th>\n",
       "      <td>1</td>\n",
       "      <td>2</td>\n",
       "      <td>MINI 1.6 W10B16A W11B16A R50 Steuerkettensatz ...</td>\n",
       "      <td>R50</td>\n",
       "      <td>NaN</td>\n",
       "      <td>O</td>\n",
       "    </tr>\n",
       "  </tbody>\n",
       "</table>\n",
       "</div>"
      ],
      "text/plain": [
       "   Record Number  Category                                              Title  \\\n",
       "0              1         2  MINI 1.6 W10B16A W11B16A R50 Steuerkettensatz ...   \n",
       "1              1         2  MINI 1.6 W10B16A W11B16A R50 Steuerkettensatz ...   \n",
       "2              1         2  MINI 1.6 W10B16A W11B16A R50 Steuerkettensatz ...   \n",
       "3              1         2  MINI 1.6 W10B16A W11B16A R50 Steuerkettensatz ...   \n",
       "4              1         2  MINI 1.6 W10B16A W11B16A R50 Steuerkettensatz ...   \n",
       "\n",
       "     Token                          Tag                        BIO_Tag  \n",
       "0     MINI    Kompatible_Fahrzeug_Marke    B-Kompatible_Fahrzeug_Marke  \n",
       "1      1.6  Kompatibles_Fahrzeug_Modell  B-Kompatibles_Fahrzeug_Modell  \n",
       "2  W10B16A             Herstellernummer             B-Herstellernummer  \n",
       "3  W11B16A                          NaN                              O  \n",
       "4      R50                          NaN                              O  "
      ]
     },
     "execution_count": 4,
     "metadata": {},
     "output_type": "execute_result"
    }
   ],
   "source": [
    "# --- Convert Tag -> BIO ---\n",
    "# Rules:\n",
    "# - Empty / NaN / \"O\" -> \"O\"\n",
    "# - For non-\"O\" tags: first token of a contiguous span -> B-<ASPECT>, subsequent -> I-<ASPECT>\n",
    "def to_bio(group: pd.DataFrame) -> pd.DataFrame:\n",
    "    tags = group[\"Tag\"].fillna(\"\").astype(str).str.strip()\n",
    "    bio = []\n",
    "    prev = \"O\"\n",
    "    for t in tags:\n",
    "        if t == \"\" or t.upper() == \"O\":\n",
    "            bio.append(\"O\")\n",
    "            prev = \"O\"\n",
    "        else:\n",
    "            bio.append(f\"I-{t}\" if prev == t else f\"B-{t}\")\n",
    "            prev = t\n",
    "    group[\"BIO_Tag\"] = bio\n",
    "    return group\n",
    "\n",
    "# Apply per title (Record Number) to preserve order/contiguity\n",
    "df_bio = df.groupby(\"Record Number\", sort=False, group_keys=False).apply(to_bio)\n",
    "df_bio.head()"
   ]
  },
  {
   "cell_type": "code",
   "execution_count": 5,
   "id": "34e54280-526b-418b-afb1-a75bb235ba90",
   "metadata": {},
   "outputs": [
    {
     "name": "stdout",
     "output_type": "stream",
     "text": [
      "Saved: processed_data/Tagged_Titles_Train_train_with_BIO.tsv | rows: 51184\n"
     ]
    }
   ],
   "source": [
    "# --- Save BIO-augmented TSV ---\n",
    "out_dir = Path(\"processed_data\"); out_dir.mkdir(parents=True, exist_ok=True)\n",
    "out_path = out_dir / \"Tagged_Titles_Train_train_with_BIO.tsv\"\n",
    "df_bio.to_csv(out_path, sep=\"\\t\", index=False, encoding=\"utf-8\")\n",
    "print(\"Saved:\", out_path, \"| rows:\", len(df_bio))"
   ]
  },
  {
   "cell_type": "code",
   "execution_count": 6,
   "id": "34a1c9f9-3f81-4248-a59b-263339360344",
   "metadata": {},
   "outputs": [],
   "source": [
    "# --- Process validation split (Tagged_Titles_Train_val.tsv) ---"
   ]
  },
  {
   "cell_type": "code",
   "execution_count": 7,
   "id": "c5251b9a-b0ec-4629-80e2-d527cc4f2395",
   "metadata": {},
   "outputs": [
    {
     "name": "stdout",
     "output_type": "stream",
     "text": [
      "Loaded: processed_data/Tagged_Titles_Train_val.tsv | rows: 5628\n"
     ]
    },
    {
     "data": {
      "text/html": [
       "<div>\n",
       "<style scoped>\n",
       "    .dataframe tbody tr th:only-of-type {\n",
       "        vertical-align: middle;\n",
       "    }\n",
       "\n",
       "    .dataframe tbody tr th {\n",
       "        vertical-align: top;\n",
       "    }\n",
       "\n",
       "    .dataframe thead th {\n",
       "        text-align: right;\n",
       "    }\n",
       "</style>\n",
       "<table border=\"1\" class=\"dataframe\">\n",
       "  <thead>\n",
       "    <tr style=\"text-align: right;\">\n",
       "      <th></th>\n",
       "      <th>Record Number</th>\n",
       "      <th>Category</th>\n",
       "      <th>Title</th>\n",
       "      <th>Token</th>\n",
       "      <th>Tag</th>\n",
       "    </tr>\n",
       "  </thead>\n",
       "  <tbody>\n",
       "    <tr>\n",
       "      <th>0</th>\n",
       "      <td>3</td>\n",
       "      <td>1</td>\n",
       "      <td>Textar Bremsscheiben + Bremsbeläge hinten für ...</td>\n",
       "      <td>Textar</td>\n",
       "      <td>Hersteller</td>\n",
       "    </tr>\n",
       "    <tr>\n",
       "      <th>1</th>\n",
       "      <td>3</td>\n",
       "      <td>1</td>\n",
       "      <td>Textar Bremsscheiben + Bremsbeläge hinten für ...</td>\n",
       "      <td>Bremsscheiben</td>\n",
       "      <td>Im_Lieferumfang_Enthalten</td>\n",
       "    </tr>\n",
       "    <tr>\n",
       "      <th>2</th>\n",
       "      <td>3</td>\n",
       "      <td>1</td>\n",
       "      <td>Textar Bremsscheiben + Bremsbeläge hinten für ...</td>\n",
       "      <td>+</td>\n",
       "      <td>O</td>\n",
       "    </tr>\n",
       "    <tr>\n",
       "      <th>3</th>\n",
       "      <td>3</td>\n",
       "      <td>1</td>\n",
       "      <td>Textar Bremsscheiben + Bremsbeläge hinten für ...</td>\n",
       "      <td>Bremsbeläge</td>\n",
       "      <td>Im_Lieferumfang_Enthalten</td>\n",
       "    </tr>\n",
       "    <tr>\n",
       "      <th>4</th>\n",
       "      <td>3</td>\n",
       "      <td>1</td>\n",
       "      <td>Textar Bremsscheiben + Bremsbeläge hinten für ...</td>\n",
       "      <td>hinten</td>\n",
       "      <td>Einbauposition</td>\n",
       "    </tr>\n",
       "  </tbody>\n",
       "</table>\n",
       "</div>"
      ],
      "text/plain": [
       "   Record Number  Category                                              Title  \\\n",
       "0              3         1  Textar Bremsscheiben + Bremsbeläge hinten für ...   \n",
       "1              3         1  Textar Bremsscheiben + Bremsbeläge hinten für ...   \n",
       "2              3         1  Textar Bremsscheiben + Bremsbeläge hinten für ...   \n",
       "3              3         1  Textar Bremsscheiben + Bremsbeläge hinten für ...   \n",
       "4              3         1  Textar Bremsscheiben + Bremsbeläge hinten für ...   \n",
       "\n",
       "           Token                        Tag  \n",
       "0         Textar                 Hersteller  \n",
       "1  Bremsscheiben  Im_Lieferumfang_Enthalten  \n",
       "2              +                          O  \n",
       "3    Bremsbeläge  Im_Lieferumfang_Enthalten  \n",
       "4         hinten             Einbauposition  "
      ]
     },
     "execution_count": 7,
     "metadata": {},
     "output_type": "execute_result"
    }
   ],
   "source": [
    "# --- Load data (TSV) ---\n",
    "src_path = Path(\"processed_data/Tagged_Titles_Train_val.tsv\")  \n",
    "df = pd.read_csv(src_path, sep=\"\\t\")\n",
    "print(\"Loaded:\", src_path, \"| rows:\", len(df))\n",
    "df.head()"
   ]
  },
  {
   "cell_type": "code",
   "execution_count": 8,
   "id": "b1820d20-86e0-4432-b2a9-2c32c7058da7",
   "metadata": {},
   "outputs": [
    {
     "name": "stderr",
     "output_type": "stream",
     "text": [
      "/var/folders/4x/93t8x08s0s15_93t7b53wtzr0000gn/T/ipykernel_65204/233002626.py:2: DeprecationWarning: DataFrameGroupBy.apply operated on the grouping columns. This behavior is deprecated, and in a future version of pandas the grouping columns will be excluded from the operation. Either pass `include_groups=False` to exclude the groupings or explicitly select the grouping columns after groupby to silence this warning.\n",
      "  df_bio = df.groupby(\"Record Number\", sort=False, group_keys=False).apply(to_bio)\n"
     ]
    }
   ],
   "source": [
    "# --- Convert Tag -> BIO ---\n",
    "df_bio = df.groupby(\"Record Number\", sort=False, group_keys=False).apply(to_bio)"
   ]
  },
  {
   "cell_type": "code",
   "execution_count": 9,
   "id": "3165a004-9916-4a4d-a723-0999b099d525",
   "metadata": {},
   "outputs": [
    {
     "name": "stdout",
     "output_type": "stream",
     "text": [
      "Saved: processed_data/Tagged_Titles_Train_val_with_BIO.tsv | rows: 5628\n"
     ]
    }
   ],
   "source": [
    "# --- Save BIO-augmented TSV ---\n",
    "out_dir = Path(\"processed_data\"); out_dir.mkdir(parents=True, exist_ok=True)\n",
    "out_path = out_dir / \"Tagged_Titles_Train_val_with_BIO.tsv\"\n",
    "df_bio.to_csv(out_path, sep=\"\\t\", index=False, encoding=\"utf-8\")\n",
    "print(\"Saved:\", out_path, \"| rows:\", len(df_bio))"
   ]
  }
 ],
 "metadata": {
  "kernelspec": {
   "display_name": "Python [conda env:anaconda3]",
   "language": "python",
   "name": "conda-env-anaconda3-py"
  },
  "language_info": {
   "codemirror_mode": {
    "name": "ipython",
    "version": 3
   },
   "file_extension": ".py",
   "mimetype": "text/x-python",
   "name": "python",
   "nbconvert_exporter": "python",
   "pygments_lexer": "ipython3",
   "version": "3.11.4"
  }
 },
 "nbformat": 4,
 "nbformat_minor": 5
}
