{
 "cells": [
  {
   "cell_type": "code",
   "execution_count": 6,
   "id": "988c870e-4c03-4569-9b75-75924ef62bbc",
   "metadata": {},
   "outputs": [
    {
     "name": "stdout",
     "output_type": "stream",
     "text": [
      "Rows in (token-level): 5,628\n",
      "Rows out (titles-only): 500\n",
      "Deduplicated rows: 5,128\n",
      "Saved to: /Users/zhangxijing/ebay-ner-challenge/model_input/Tagged_Titles_TitlesOnly.tsv\n"
     ]
    }
   ],
   "source": [
    "# Minimal, production-ready cleaner for eBay NER TSV -> titles-only TSV\n",
    "import pandas as pd\n",
    "from pathlib import Path\n",
    "\n",
    "# --- paths (edit if your file paths differ) ---\n",
    "in_path  = Path(\"processed_data/Tagged_Titles_Train_val.tsv\")\n",
    "out_path = Path(\"model_input/Tagged_Titles_TitlesOnly.tsv\")\n",
    "\n",
    "# --- read ---\n",
    "# Use python engine for robust tab parsing; keep strings as-is (no NA coercion)\n",
    "df = pd.read_csv(in_path, sep=\"\\t\", engine=\"python\", dtype=str, keep_default_na=False)\n",
    "\n",
    "# --- normalize column names (strip spaces, unify underscores) ---\n",
    "df.columns = [c.strip().replace(\" \", \"_\") for c in df.columns]\n",
    "\n",
    "# --- sanity check required columns ---\n",
    "required = [\"Record_Number\", \"Category\", \"Title\"]\n",
    "missing = [c for c in required if c not in df.columns]\n",
    "if missing:\n",
    "    raise ValueError(f\"Missing required columns: {missing}. Found columns: {list(df.columns)}\")\n",
    "\n",
    "# --- select only the needed columns ---\n",
    "out = df[required].copy()\n",
    "\n",
    "# --- light cleaning ---\n",
    "# 1) Trim whitespace\n",
    "for c in required:\n",
    "    out[c] = out[c].astype(str).str.strip()\n",
    "\n",
    "# 2) Collapse internal repeated spaces in Title to a single space\n",
    "out[\"Title\"] = out[\"Title\"].str.replace(r\"\\s+\", \" \", regex=True)\n",
    "\n",
    "# 3) Drop rows with empty critical fields\n",
    "out = out[(out[\"Record_Number\"] != \"\") & (out[\"Category\"] != \"\") & (out[\"Title\"] != \"\")]\n",
    "\n",
    "# --- deduplicate ---\n",
    "# Keep the first occurrence per (Record_Number, Category, Title)\n",
    "before = len(out)\n",
    "out = out.drop_duplicates(subset=required, keep=\"first\")\n",
    "deduped = before - len(out)\n",
    "\n",
    "# --- typing & sort for readability ---\n",
    "# Try to sort numerically by record number (fallback to string if needed)\n",
    "try:\n",
    "    out[\"Record_Number\"] = out[\"Record_Number\"].astype(int)\n",
    "    out = out.sort_values(by=[\"Record_Number\", \"Category\", \"Title\"], kind=\"stable\")\n",
    "except ValueError:\n",
    "    # If record numbers are not all integers, do a stable lexicographic sort\n",
    "    out = out.sort_values(by=[\"Record_Number\", \"Category\", \"Title\"], kind=\"stable\")\n",
    "\n",
    "# --- optional: rename columns back to desired header style ---\n",
    "out = out.rename(columns={\"Record_Number\": \"Record Number\"})\n",
    "\n",
    "# --- write ---\n",
    "out.to_csv(out_path, sep=\"\\t\", index=False, encoding=\"utf-8\")\n",
    "\n",
    "print(f\"Rows in (token-level): {len(df):,}\")\n",
    "print(f\"Rows out (titles-only): {len(out):,}\")\n",
    "print(f\"Deduplicated rows: {deduped:,}\")\n",
    "print(f\"Saved to: {out_path.resolve()}\")"
   ]
  },
  {
   "cell_type": "code",
   "execution_count": null,
   "id": "c71d1bab-0609-4cd4-863a-872ecfd61a20",
   "metadata": {},
   "outputs": [],
   "source": []
  }
 ],
 "metadata": {
  "kernelspec": {
   "display_name": "Python [conda env:anaconda3]",
   "language": "python",
   "name": "conda-env-anaconda3-py"
  },
  "language_info": {
   "codemirror_mode": {
    "name": "ipython",
    "version": 3
   },
   "file_extension": ".py",
   "mimetype": "text/x-python",
   "name": "python",
   "nbconvert_exporter": "python",
   "pygments_lexer": "ipython3",
   "version": "3.11.4"
  }
 },
 "nbformat": 4,
 "nbformat_minor": 5
}
