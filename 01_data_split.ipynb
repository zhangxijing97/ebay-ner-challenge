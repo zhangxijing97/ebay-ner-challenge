{
 "cells": [
  {
   "cell_type": "code",
   "execution_count": 2,
   "id": "487e58f9-7cb1-4fdf-a051-ca202901f982",
   "metadata": {},
   "outputs": [
    {
     "name": "stdout",
     "output_type": "stream",
     "text": [
      "Dataset size: 56812\n",
      "Columns: ['Record Number', 'Category', 'Title', 'Token', 'Tag']\n"
     ]
    },
    {
     "data": {
      "text/html": [
       "<div>\n",
       "<style scoped>\n",
       "    .dataframe tbody tr th:only-of-type {\n",
       "        vertical-align: middle;\n",
       "    }\n",
       "\n",
       "    .dataframe tbody tr th {\n",
       "        vertical-align: top;\n",
       "    }\n",
       "\n",
       "    .dataframe thead th {\n",
       "        text-align: right;\n",
       "    }\n",
       "</style>\n",
       "<table border=\"1\" class=\"dataframe\">\n",
       "  <thead>\n",
       "    <tr style=\"text-align: right;\">\n",
       "      <th></th>\n",
       "      <th>Record Number</th>\n",
       "      <th>Category</th>\n",
       "      <th>Title</th>\n",
       "      <th>Token</th>\n",
       "      <th>Tag</th>\n",
       "    </tr>\n",
       "  </thead>\n",
       "  <tbody>\n",
       "    <tr>\n",
       "      <th>0</th>\n",
       "      <td>1</td>\n",
       "      <td>2</td>\n",
       "      <td>MINI 1.6 W10B16A W11B16A R50 Steuerkettensatz ...</td>\n",
       "      <td>MINI</td>\n",
       "      <td>Kompatible_Fahrzeug_Marke</td>\n",
       "    </tr>\n",
       "    <tr>\n",
       "      <th>1</th>\n",
       "      <td>1</td>\n",
       "      <td>2</td>\n",
       "      <td>MINI 1.6 W10B16A W11B16A R50 Steuerkettensatz ...</td>\n",
       "      <td>1.6</td>\n",
       "      <td>Kompatibles_Fahrzeug_Modell</td>\n",
       "    </tr>\n",
       "    <tr>\n",
       "      <th>2</th>\n",
       "      <td>1</td>\n",
       "      <td>2</td>\n",
       "      <td>MINI 1.6 W10B16A W11B16A R50 Steuerkettensatz ...</td>\n",
       "      <td>W10B16A</td>\n",
       "      <td>Herstellernummer</td>\n",
       "    </tr>\n",
       "    <tr>\n",
       "      <th>3</th>\n",
       "      <td>1</td>\n",
       "      <td>2</td>\n",
       "      <td>MINI 1.6 W10B16A W11B16A R50 Steuerkettensatz ...</td>\n",
       "      <td>W11B16A</td>\n",
       "      <td>NaN</td>\n",
       "    </tr>\n",
       "    <tr>\n",
       "      <th>4</th>\n",
       "      <td>1</td>\n",
       "      <td>2</td>\n",
       "      <td>MINI 1.6 W10B16A W11B16A R50 Steuerkettensatz ...</td>\n",
       "      <td>R50</td>\n",
       "      <td>NaN</td>\n",
       "    </tr>\n",
       "  </tbody>\n",
       "</table>\n",
       "</div>"
      ],
      "text/plain": [
       "   Record Number  Category                                              Title  \\\n",
       "0              1         2  MINI 1.6 W10B16A W11B16A R50 Steuerkettensatz ...   \n",
       "1              1         2  MINI 1.6 W10B16A W11B16A R50 Steuerkettensatz ...   \n",
       "2              1         2  MINI 1.6 W10B16A W11B16A R50 Steuerkettensatz ...   \n",
       "3              1         2  MINI 1.6 W10B16A W11B16A R50 Steuerkettensatz ...   \n",
       "4              1         2  MINI 1.6 W10B16A W11B16A R50 Steuerkettensatz ...   \n",
       "\n",
       "     Token                          Tag  \n",
       "0     MINI    Kompatible_Fahrzeug_Marke  \n",
       "1      1.6  Kompatibles_Fahrzeug_Modell  \n",
       "2  W10B16A             Herstellernummer  \n",
       "3  W11B16A                          NaN  \n",
       "4      R50                          NaN  "
      ]
     },
     "execution_count": 2,
     "metadata": {},
     "output_type": "execute_result"
    }
   ],
   "source": [
    "# ---- 1. Import dependencies ----\n",
    "import pandas as pd\n",
    "from sklearn.model_selection import StratifiedShuffleSplit\n",
    "from pathlib import Path\n",
    "\n",
    "# ---- 2. Read the original dataset ----\n",
    "df = pd.read_csv(\"data/Tagged_Titles_Train.tsv\", sep=\"\\t\")\n",
    "\n",
    "print(\"Dataset size:\", len(df))\n",
    "print(\"Columns:\", df.columns.tolist())\n",
    "df.head()"
   ]
  },
  {
   "cell_type": "code",
   "execution_count": 3,
   "id": "2d64f894-bf01-45c2-8396-b67b6abca731",
   "metadata": {},
   "outputs": [
    {
     "name": "stdout",
     "output_type": "stream",
     "text": [
      "Total records: 5000\n"
     ]
    },
    {
     "data": {
      "text/html": [
       "<div>\n",
       "<style scoped>\n",
       "    .dataframe tbody tr th:only-of-type {\n",
       "        vertical-align: middle;\n",
       "    }\n",
       "\n",
       "    .dataframe tbody tr th {\n",
       "        vertical-align: top;\n",
       "    }\n",
       "\n",
       "    .dataframe thead th {\n",
       "        text-align: right;\n",
       "    }\n",
       "</style>\n",
       "<table border=\"1\" class=\"dataframe\">\n",
       "  <thead>\n",
       "    <tr style=\"text-align: right;\">\n",
       "      <th></th>\n",
       "      <th>rid</th>\n",
       "      <th>cat</th>\n",
       "    </tr>\n",
       "  </thead>\n",
       "  <tbody>\n",
       "    <tr>\n",
       "      <th>0</th>\n",
       "      <td>1</td>\n",
       "      <td>2</td>\n",
       "    </tr>\n",
       "    <tr>\n",
       "      <th>1</th>\n",
       "      <td>2</td>\n",
       "      <td>1</td>\n",
       "    </tr>\n",
       "    <tr>\n",
       "      <th>2</th>\n",
       "      <td>3</td>\n",
       "      <td>1</td>\n",
       "    </tr>\n",
       "    <tr>\n",
       "      <th>3</th>\n",
       "      <td>4</td>\n",
       "      <td>2</td>\n",
       "    </tr>\n",
       "    <tr>\n",
       "      <th>4</th>\n",
       "      <td>5</td>\n",
       "      <td>1</td>\n",
       "    </tr>\n",
       "  </tbody>\n",
       "</table>\n",
       "</div>"
      ],
      "text/plain": [
       "   rid  cat\n",
       "0    1    2\n",
       "1    2    1\n",
       "2    3    1\n",
       "3    4    2\n",
       "4    5    1"
      ]
     },
     "execution_count": 3,
     "metadata": {},
     "output_type": "execute_result"
    }
   ],
   "source": [
    "# ---- 3. Build mapping from Record Number -> Category ----\n",
    "# Each Record Number belongs to one Category, so we use it for stratified splitting\n",
    "rec2cat = (\n",
    "    df.groupby(\"Record Number\")[\"Category\"]   # group all rows by Record Number, look only at Category\n",
    "      .first()                                # take the first Category in each group (they are all the same anyway)\n",
    "      .reset_index()                          # turn Record Number back into a normal column\n",
    "      .rename(columns={\"Record Number\": \"rid\", \"Category\": \"cat\"})  # rename columns to shorter names\n",
    ")\n",
    "\n",
    "print(\"Total records:\", len(rec2cat))\n",
    "rec2cat.head()"
   ]
  },
  {
   "cell_type": "code",
   "execution_count": 4,
   "id": "3814bf03-33f2-49f9-8578-75686f6e2634",
   "metadata": {},
   "outputs": [
    {
     "name": "stdout",
     "output_type": "stream",
     "text": [
      "Train records: 4500\n",
      "Validation records: 500\n"
     ]
    }
   ],
   "source": [
    "# ---- 4. Perform stratified random split (90% train / 10% validation) ----\n",
    "splitter = StratifiedShuffleSplit(n_splits=1, test_size=0.10, random_state=42)\n",
    "train_idx, val_idx = next(splitter.split(rec2cat[[\"rid\"]], rec2cat[\"cat\"]))\n",
    "\n",
    "train_rids = set(rec2cat.iloc[train_idx][\"rid\"])\n",
    "val_rids   = set(rec2cat.iloc[val_idx][\"rid\"])\n",
    "\n",
    "print(\"Train records:\", len(train_rids))\n",
    "print(\"Validation records:\", len(val_rids))"
   ]
  },
  {
   "cell_type": "code",
   "execution_count": 5,
   "id": "fb36649d-f3c4-4c43-9e0e-f753463d461a",
   "metadata": {},
   "outputs": [
    {
     "name": "stdout",
     "output_type": "stream",
     "text": [
      "Train dataset size: 51184\n",
      "Validation dataset size: 5628\n"
     ]
    }
   ],
   "source": [
    "# ---- 5. Filter the full dataframe into train and validation sets ----\n",
    "df_train = df[df[\"Record Number\"].isin(train_rids)].copy()\n",
    "df_val   = df[df[\"Record Number\"].isin(val_rids)].copy()\n",
    "\n",
    "print(\"Train dataset size:\", len(df_train))\n",
    "print(\"Validation dataset size:\", len(df_val))"
   ]
  },
  {
   "cell_type": "code",
   "execution_count": 6,
   "id": "c69e7b85-c0ce-465c-8f23-a435645edbeb",
   "metadata": {},
   "outputs": [
    {
     "name": "stdout",
     "output_type": "stream",
     "text": [
      "Files saved in 'processed_data/' ✅\n"
     ]
    }
   ],
   "source": [
    "# ---- 6. Create output folder ----\n",
    "out_dir = Path(\"processed_data\")\n",
    "out_dir.mkdir(parents=True, exist_ok=True)\n",
    "\n",
    "# ---- 7. Save the splits as TSV files with clearer names ----\n",
    "df_train.to_csv(out_dir / \"Tagged_Titles_Train_train.tsv\", sep=\"\\t\", index=False, encoding=\"utf-8\")\n",
    "df_val.to_csv(out_dir / \"Tagged_Titles_Train_val.tsv\", sep=\"\\t\", index=False, encoding=\"utf-8\")\n",
    "\n",
    "print(\"Files saved in 'processed_data/' ✅\")"
   ]
  },
  {
   "cell_type": "code",
   "execution_count": 26,
   "id": "bf04efcc-d040-4e1f-8b75-4682a905493f",
   "metadata": {},
   "outputs": [
    {
     "data": {
      "text/plain": [
       "0     MINI 1.6 W10B16A W11B16A R50 Steuerkettensatz ...\n",
       "1     MINI 1.6 W10B16A W11B16A R50 Steuerkettensatz ...\n",
       "2     MINI 1.6 W10B16A W11B16A R50 Steuerkettensatz ...\n",
       "3     MINI 1.6 W10B16A W11B16A R50 Steuerkettensatz ...\n",
       "4     MINI 1.6 W10B16A W11B16A R50 Steuerkettensatz ...\n",
       "5     MINI 1.6 W10B16A W11B16A R50 Steuerkettensatz ...\n",
       "6     MINI 1.6 W10B16A W11B16A R50 Steuerkettensatz ...\n",
       "7     MINI 1.6 W10B16A W11B16A R50 Steuerkettensatz ...\n",
       "8     MINI 1.6 W10B16A W11B16A R50 Steuerkettensatz ...\n",
       "9     MINI 1.6 W10B16A W11B16A R50 Steuerkettensatz ...\n",
       "10    ATE Power Disc Bremsenset Mercedes SLC + SLK V...\n",
       "11    ATE Power Disc Bremsenset Mercedes SLC + SLK V...\n",
       "12    ATE Power Disc Bremsenset Mercedes SLC + SLK V...\n",
       "13    ATE Power Disc Bremsenset Mercedes SLC + SLK V...\n",
       "14    ATE Power Disc Bremsenset Mercedes SLC + SLK V...\n",
       "15    ATE Power Disc Bremsenset Mercedes SLC + SLK V...\n",
       "16    ATE Power Disc Bremsenset Mercedes SLC + SLK V...\n",
       "17    ATE Power Disc Bremsenset Mercedes SLC + SLK V...\n",
       "18    ATE Power Disc Bremsenset Mercedes SLC + SLK V...\n",
       "19    ATE Power Disc Bremsenset Mercedes SLC + SLK V...\n",
       "20    ATE Power Disc Bremsenset Mercedes SLC + SLK V...\n",
       "21    ATE Power Disc Bremsenset Mercedes SLC + SLK V...\n",
       "22    ATE Power Disc Bremsenset Mercedes SLC + SLK V...\n",
       "23    Textar Bremsscheiben + Bremsbeläge hinten für ...\n",
       "24    Textar Bremsscheiben + Bremsbeläge hinten für ...\n",
       "25    Textar Bremsscheiben + Bremsbeläge hinten für ...\n",
       "26    Textar Bremsscheiben + Bremsbeläge hinten für ...\n",
       "Name: Title, dtype: object"
      ]
     },
     "execution_count": 26,
     "metadata": {},
     "output_type": "execute_result"
    }
   ],
   "source": [
    "df[\"Title\"].head(27)"
   ]
  },
  {
   "cell_type": "code",
   "execution_count": null,
   "id": "dcf8c3fe-d179-40e2-aa61-4e804acbb0f7",
   "metadata": {},
   "outputs": [],
   "source": []
  }
 ],
 "metadata": {
  "kernelspec": {
   "display_name": "Python [conda env:anaconda3]",
   "language": "python",
   "name": "conda-env-anaconda3-py"
  },
  "language_info": {
   "codemirror_mode": {
    "name": "ipython",
    "version": 3
   },
   "file_extension": ".py",
   "mimetype": "text/x-python",
   "name": "python",
   "nbconvert_exporter": "python",
   "pygments_lexer": "ipython3",
   "version": "3.11.4"
  }
 },
 "nbformat": 4,
 "nbformat_minor": 5
}
